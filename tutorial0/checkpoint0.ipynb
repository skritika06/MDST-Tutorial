{
 "cells": [
  {
   "cell_type": "markdown",
   "id": "0073cfa1",
   "metadata": {
    "colab_type": "text",
    "id": "0a8IYAJUshu1"
   },
   "source": [
    "# Checkpoint 0 "
   ]
  },
  {
   "cell_type": "markdown",
   "id": "f87073e3",
   "metadata": {},
   "source": [
    "These exercises are a mix of Python and Pandas practice. Most should be no more than a few lines of code! "
   ]
  },
  {
   "cell_type": "code",
   "execution_count": 1,
   "id": "e22b9a3f",
   "metadata": {
    "colab": {},
    "colab_type": "code",
    "id": "Jo6wuTgkshu1"
   },
   "outputs": [],
   "source": [
    "# here is a Python list:\n",
    "\n",
    "a = [1, 2, 3, 4, 5, 6]\n"
   ]
  },
  {
   "cell_type": "code",
   "execution_count": 10,
   "id": "779d96b1",
   "metadata": {},
   "outputs": [
    {
     "name": "stdout",
     "output_type": "stream",
     "text": [
      "[4, 5, 6]\n"
     ]
    }
   ],
   "source": [
    "# get a list containing the last 3 elements of a\n",
    "# Yes, you can just type out [4, 5, 6] but we really want to see you demonstrate you know how to use list slicing in Python\n",
    "b = a[3:6]\n",
    "print(b)"
   ]
  },
  {
   "cell_type": "code",
   "execution_count": 13,
   "id": "b6a54def",
   "metadata": {},
   "outputs": [
    {
     "name": "stdout",
     "output_type": "stream",
     "text": [
      "[1, 2, 3, 4, 5, 6, 7, 8, 9, 10, 11, 12, 13, 14, 15, 16, 17, 18, 19, 20]\n"
     ]
    }
   ],
   "source": [
    "# create a list of numbers from 1 to 20\n",
    "c = []\n",
    "for i in range (1, 21):\n",
    "    c.append(i);\n",
    "print(c)"
   ]
  },
  {
   "cell_type": "code",
   "execution_count": 15,
   "id": "487873ac",
   "metadata": {},
   "outputs": [
    {
     "name": "stdout",
     "output_type": "stream",
     "text": [
      "[2, 4, 6, 8, 10, 12, 14, 16, 18, 20, 22, 24, 26, 28, 30, 32, 34, 36, 38, 40, 42, 44, 46, 48, 50, 52, 54, 56, 58, 60, 62, 64, 66, 68, 70, 72, 74, 76, 78, 80, 82, 84, 86, 88, 90, 92, 94, 96, 98, 100]\n"
     ]
    }
   ],
   "source": [
    "# now get a list with only the even numbers between 1 and 100\n",
    "# you may or may not make use of the list you made in the last cell\n",
    "d = []\n",
    "for i in range (2, 101,2):\n",
    "    d.append(i);\n",
    "print(d)"
   ]
  },
  {
   "cell_type": "code",
   "execution_count": 16,
   "id": "3d4bb5dd",
   "metadata": {},
   "outputs": [],
   "source": [
    "# write a function that takes two numbers as arguments\n",
    "# and returns the first number divided by the second\n",
    "def fun1(a, b):\n",
    "    return a/b"
   ]
  },
  {
   "cell_type": "code",
   "execution_count": 20,
   "id": "f55df04e",
   "metadata": {},
   "outputs": [
    {
     "name": "stdout",
     "output_type": "stream",
     "text": [
      "1\n",
      "2\n",
      "fizz\n",
      "4\n",
      "buzz\n",
      "fizz\n",
      "7\n",
      "8\n",
      "fizz\n",
      "buzz\n",
      "11\n",
      "fizz\n",
      "13\n",
      "14\n",
      "fizzbuzz\n",
      "16\n",
      "17\n",
      "fizz\n",
      "19\n",
      "buzz\n",
      "fizz\n",
      "22\n",
      "23\n",
      "fizz\n",
      "buzz\n",
      "26\n",
      "fizz\n",
      "28\n",
      "29\n",
      "fizzbuzz\n"
     ]
    }
   ],
   "source": [
    "# fizzbuzz\n",
    "# you will need to use both iteration and control flow \n",
    "# go through all numbers from 1 to 30 in order\n",
    "# if the number is a multiple of 3, print fizz\n",
    "# if the number is a multiple of 5, print buzz\n",
    "# if the number is a multiple of 3 and 5, print fizzbuzz and NOTHING ELSE\n",
    "# if the number is neither a multiple of 3 nor a multiple of 5, print the number\n",
    "for i in range (1, 31):\n",
    "    if i%3==0 and i%5==0:\n",
    "        print(\"fizzbuzz\")\n",
    "    elif i%3==0:\n",
    "        print(\"fizz\")\n",
    "    elif i%5==0:\n",
    "        print(\"buzz\")\n",
    "    else:\n",
    "        print(i)"
   ]
  },
  {
   "cell_type": "code",
   "execution_count": 24,
   "id": "78aace0b",
   "metadata": {},
   "outputs": [
    {
     "name": "stdout",
     "output_type": "stream",
     "text": [
      "{'gyro': 9, 'greek salad': 8, 'philly steak': 10}\n"
     ]
    }
   ],
   "source": [
    "# create a dictionary that reflects the following menu pricing (taken from Ahmo's)\n",
    "# Gyro: $9 \n",
    "# Burger: $9\n",
    "# Greek Salad: $8\n",
    "# Philly Steak: $10\n",
    "menu = {\n",
    "    \"gyro\": 9,\n",
    "    \"greek salad\": 8,\n",
    "    \"philly steak\": 10\n",
    "}"
   ]
  },
  {
   "cell_type": "code",
   "execution_count": 29,
   "id": "8c66385b",
   "metadata": {
    "colab": {},
    "colab_type": "code",
    "id": "WzCQ5HOJshvA"
   },
   "outputs": [],
   "source": [
    "# load in the \"starbucks.csv\" dataset\n",
    "# refer to how we read the cereal.csv dataset in the tutorial\n",
    "df = pd.read_csv(\"../data/starbucks.csv\")"
   ]
  },
  {
   "cell_type": "code",
   "execution_count": 34,
   "id": "ac0f0c12",
   "metadata": {},
   "outputs": [],
   "source": [
    "# select all rows with more than and including 400 calories\n",
    "df_cals = df[df['calories'] >=400]"
   ]
  },
  {
   "cell_type": "code",
   "execution_count": 37,
   "id": "ee8f8241",
   "metadata": {},
   "outputs": [],
   "source": [
    "# select all rows whose vitamin c content is higher than the iron content\n",
    "df_vitc = df[df['vitamin c'] >df['iron']]"
   ]
  },
  {
   "cell_type": "code",
   "execution_count": 39,
   "id": "d4de48bb",
   "metadata": {},
   "outputs": [],
   "source": [
    "# create a new column containing the caffeine per calories of each drink\n",
    "df['caffeine_per_cal'] = df['caffeine']/df['calories']"
   ]
  },
  {
   "cell_type": "code",
   "execution_count": 40,
   "id": "350b59fa",
   "metadata": {
    "colab": {},
    "colab_type": "code",
    "id": "rIoxaSxHshvB"
   },
   "outputs": [],
   "source": [
    "# what is the average calorie across all items?\n",
    "average_cals = df['calories'].mean()"
   ]
  },
  {
   "cell_type": "code",
   "execution_count": 48,
   "id": "34a7b3e4",
   "metadata": {
    "colab": {},
    "colab_type": "code",
    "id": "ABX7i49FshvD"
   },
   "outputs": [],
   "source": [
    "# how many different categories of beverages are there?\n",
    "beverage_cats = df['beverage_category'].unique()\n",
    "num_categories=len(beverage_cats)"
   ]
  },
  {
   "cell_type": "code",
   "execution_count": 49,
   "id": "f0403003",
   "metadata": {
    "colab": {},
    "colab_type": "code",
    "id": "P9QatZAzshvE"
   },
   "outputs": [
    {
     "data": {
      "text/plain": [
       "beverage_category\n",
       "classic espresso drinks             140.172414\n",
       "coffee                                4.250000\n",
       "frappuccino blended coffee          276.944444\n",
       "frappuccino blended crme            233.076923\n",
       "frappuccino light blended coffee    162.500000\n",
       "shaken iced beverages               114.444444\n",
       "signature espresso drinks           250.000000\n",
       "smoothies                           282.222222\n",
       "tazo tea drinks                     177.307692\n",
       "Name: calories, dtype: float64"
      ]
     },
     "execution_count": 49,
     "metadata": {},
     "output_type": "execute_result"
    }
   ],
   "source": [
    "# what is the average # calories for each beverage category?\n",
    "df.groupby('beverage_category')['calories'].mean()\n"
   ]
  },
  {
   "cell_type": "code",
   "execution_count": null,
   "id": "a109e645-b2af-4b3d-95d4-5df62164dfbc",
   "metadata": {},
   "outputs": [],
   "source": []
  },
  {
   "cell_type": "code",
   "execution_count": null,
   "id": "7f12b968-d2c2-454d-90b6-8c158aa01fac",
   "metadata": {},
   "outputs": [],
   "source": []
  }
 ],
 "metadata": {
  "kernelspec": {
   "display_name": "Python 3 (ipykernel)",
   "language": "python",
   "name": "python3"
  },
  "language_info": {
   "codemirror_mode": {
    "name": "ipython",
    "version": 3
   },
   "file_extension": ".py",
   "mimetype": "text/x-python",
   "name": "python",
   "nbconvert_exporter": "python",
   "pygments_lexer": "ipython3",
   "version": "3.12.3"
  },
  "vscode": {
   "interpreter": {
    "hash": "6cf8df3ff69f85f626faf55c10df6fe2cb9d1236b4dc73844ee4dc01369c2c99"
   }
  }
 },
 "nbformat": 4,
 "nbformat_minor": 5
}
